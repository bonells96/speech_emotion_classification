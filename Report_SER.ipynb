{
 "cells": [
  {
   "cell_type": "markdown",
   "metadata": {},
   "source": [
    "## Introduction\n",
    "\n",
    "You are working as an ML engineer in Visiemo, a famous sound-based sentiment analysis company. It’s Monday morning and you are chilling at the coffee machine with fellow Visiumees. Suddenly, the AI project manager schedules you a project kick-off meeting. A multinational client is interested in our services: the client has different call centers around the world and would like to analyze the satisfaction of its customers based on the recordings of the calls.\n",
    "\n",
    "The client has heard about AI and Visiemo, more precisely about our expertise in sentiment analysis.\n",
    "However,the client is reluctant in whether the solution will work. As such, it has been agreed to first do a proof-of-concept on the call centers from Germany.\n",
    "\n",
    "At Visiemo, we have decided to use an already existing dataset and design a small proof-of-concept to showcase the solution to the client."
   ]
  },
  {
   "cell_type": "markdown",
   "metadata": {},
   "source": [
    "## Instructions\n",
    "\n",
    "In the frame of this use-case, you will be confronted to **Speech Emotion Recognition** with the **Emo-DB** dataset. The goal is to design a proof-of-concept model which classifies samples of emotional speech in one of the given emotions.\n",
    "\n",
    "By the end of the use-case, you should have a working model with good enough performance, fairly evaluated. \n",
    "\n",
    "*We do not aim to have the best performing model.* On the contrary, you should aim for an end-to-end working solution that enables inference on new speech samples.\n",
    "\n",
    "* As a **report**, you should fill in the present notebook.\n",
    "* You should dockerize your project. The **Docker container** should handle everything (download the data, run the code, etc.). When running the container **it should expose the Jupyter notebook on one port and expose a Flask API on another one**.\n",
    "* The **Flask API** should contain two endpoints:\n",
    "  - One for training the model\n",
    "  - One for querying the last trained model with an audio file of our choice in the dataset\n",
    "* The code that you will develop should be **entirely reproducible** and **documented in a README.md file**.\n",
    "\n",
    "## Final presentation\n",
    "\n",
    "* The final presentation will be held on-site or remotely depending on your availability. \n",
    "* An AI Project Manager and two ML engineers will be present. \n",
    "* You will start by giving a 10-15 min technical presentation about your approach and your findings, using the slides provided as deliverables. Finally, a discussion with questions of about 20 min will follow.\n",
    "* It should be clear enough to understand your approach and your decisions without going too much in the code. \n",
    "* You can also include code snippets, demos, etc.\n",
    "\n",
    "## Important points to keep in mind\n",
    "\n",
    "* Please be aware that this use-case might take a substantial amount of time, especially if you are not familiar with all the tools.\n",
    "* You will have one full week to tackle the problem, starting today. We broadly estimate to *15-20 hours* the usual development time needed.\n",
    "* Don’t spend too much time finding the perfect technical solution or making tiny metric improvements. \n",
    "* If you don't manage to finish all the tasks, you can still send us your use-case: we will discuss the difficulties you encountered during the final presentation.\n",
    "* **Do not upload your code to Github, or at least not in a public repo.**\n",
    "* Feel free to use any available library you would need, but **do not re-use someone else's code without mentioning it.**\n",
    "\n",
    "## Deliverables \n",
    "\n",
    "Please provide the following elements in a **.zip** file as deliverables:\n",
    "* This report filled with your approach, in the form of an **iPython Notebook**.\n",
    "* A **5-10 slides PDF file**, containing a technical presentation covering the important aspects of your work.\n",
    "* A **Dockerfile** defining a container for the project expositing the present notebook and the Flask API.\n",
    "* A **README.md** which should contain the commands to build and run the docker container, as well as how to perform the queries to the API. \n",
    "* **Any** necessary .py, .sh or other files needed to run your code.\n",
    "\n",
    "You will be judged on your technical approach, evaluation, visualizations, coding and presentation skills."
   ]
  },
  {
   "cell_type": "markdown",
   "metadata": {},
   "source": [
    "## About the data"
   ]
  },
  {
   "cell_type": "markdown",
   "metadata": {},
   "source": [
    "The dataset can be found [here](http://emodb.bilderbar.info/index-1280.html).\n",
    "\n",
    "It contains samples of emotional speech in German, labeled with one of 7 different emotions: Anger, Boredom, Disgust, Fear, Happiness, Sadness and Neutral. \n",
    "\n",
    "Please download the full database and refer to the documentation to understand how the samples are labeled (see \"Additional information\")."
   ]
  },
  {
   "cell_type": "markdown",
   "metadata": {},
   "source": [
    "# Libraries Loading"
   ]
  },
  {
   "cell_type": "code",
   "execution_count": 52,
   "metadata": {
    "collapsed": true
   },
   "outputs": [],
   "source": [
    "from os import listdir, getcwd\n",
    "from os.path import join, dirname\n",
    "import pandas as pd\n",
    "import librosa"
   ]
  },
  {
   "cell_type": "markdown",
   "metadata": {},
   "source": [
    "# Data Preparation & Cleaning"
   ]
  },
  {
   "cell_type": "markdown",
   "metadata": {},
   "source": [
    "### Data Loading"
   ]
  },
  {
   "cell_type": "code",
   "execution_count": 76,
   "metadata": {
    "collapsed": true
   },
   "outputs": [],
   "source": [
    "PATH_DATA = join(getcwd(), 'download')\n",
    "samples = listdir(join(PATH_DATA, 'wav'))\n",
    "\n",
    "def read_audio_edb(file_name:str):\n",
    "    \"\"\"\n",
    "    Positions 1-2: number of speaker\n",
    "    Positions 3-5: code for text\n",
    "    Position 6: emotion (sorry, letter stands for german emotion word)\n",
    "    Position 7: if there are more than two versions these are numbered a, b, c ....\n",
    "    \"\"\"\n",
    "    name = file_name[:-4]\n",
    "    return {'id':name,'user_id': name[:2], 'text_id': name[2:5], 'label': name[5], 'versions':name[6:]}\n",
    "\n",
    "def getTsFromAudio(file):\n",
    "    y, sr = librosa.load(file)\n",
    "    return y, sr\n"
   ]
  },
  {
   "cell_type": "code",
   "execution_count": 59,
   "metadata": {},
   "outputs": [],
   "source": [
    "code_emotions = {'W': 'anger', 'L':'boredom', 'E':'disgust', 'A':'fear',\n",
    "                'F':'happiness', 'T':'sadness', 'N':'neutral'}"
   ]
  },
  {
   "cell_type": "code",
   "execution_count": 60,
   "metadata": {},
   "outputs": [],
   "source": [
    "data = pd.DataFrame(columns=['id', 'user_id', 'text_id', 'label', 'versions'])\n",
    "for sample in samples:\n",
    "    data = pd.concat((data, pd.DataFrame(data=[read_audio_edb(sample)])), ignore_index=True)\n",
    "    \n",
    "data['emotion'] = data.loc[:,'label'].apply(lambda x: code_emotions[x])"
   ]
  },
  {
   "cell_type": "markdown",
   "metadata": {},
   "source": [
    "### EDA"
   ]
  },
  {
   "cell_type": "code",
   "execution_count": 61,
   "metadata": {},
   "outputs": [
    {
     "name": "stdout",
     "output_type": "stream",
     "text": [
      "There are 535 recordings\n",
      "There are 10 different users\n",
      "There are 10 different text id\n"
     ]
    }
   ],
   "source": [
    "import numpy as np\n",
    "\n",
    "print(f'There are {data.shape[0]} recordings')\n",
    "print(f'There are {len(np.unique(data.loc[:,\"user_id\"]))} different users')\n",
    "print(f'There are {len(np.unique(data.loc[:,\"text_id\"]))} different text id')\n"
   ]
  },
  {
   "cell_type": "code",
   "execution_count": 73,
   "metadata": {},
   "outputs": [
    {
     "name": "stdout",
     "output_type": "stream",
     "text": [
      "('anger', 'boredom', 'neutral', 'happiness', 'fear', 'sadness', 'disgust')\n"
     ]
    },
    {
     "data": {
      "image/png": "[encoded data removed]",
      "text/plain": [
       "<Figure size 1000x600 with 1 Axes>"
      ]
     },
     "metadata": {},
     "output_type": "display_data"
    }
   ],
   "source": [
    "import matplotlib.pyplot as plt\n",
    "import seaborn as sns\n",
    "\n",
    "emotions = ['anger', 'boredom', 'disgust', 'fear', 'happiness', 'neutral', 'sadness']\n",
    "counts = [127, 81, 46, 69, 71, 79, 62]\n",
    "\n",
    "sorted_data = sorted(zip(emotions, counts), key=lambda x: x[1], reverse=True)\n",
    "sorted_emotions, sorted_counts = zip(*sorted_data)\n",
    "\n",
    "sns.set_style(\"whitegrid\")  # Set the style of the plot\n",
    "plt.figure(figsize=(10, 6))  # Set the size of the plot\n",
    "\n",
    "# Create the bar plot\n",
    "sns.barplot(x=list(sorted_emotions), y=list(sorted_counts), palette='viridis')\n",
    "\n",
    "# Set the labels and title\n",
    "plt.xlabel('Emotions')\n",
    "plt.ylabel('Counts')\n",
    "plt.title('Emotion Counts')\n",
    "\n",
    "# Rotate the x-axis labels if needed\n",
    "plt.xticks(rotation=45)\n",
    "\n",
    "# Show the plot\n",
    "plt.show()"
   ]
  },
  {
   "cell_type": "markdown",
   "metadata": {},
   "source": [
    "# Feature Engineering & Modeling"
   ]
  },
  {
   "cell_type": "markdown",
   "metadata": {},
   "source": [
    "### Features"
   ]
  },
  {
   "cell_type": "code",
   "execution_count": 82,
   "metadata": {
    "collapsed": true
   },
   "outputs": [],
   "source": [
    "data.loc[:,'ts'] = data.loc[:,'id'].apply(lambda x: getTsFromAudio(join(PATH_DATA, 'wav', x + '.wav'))[0])\n",
    "data.loc[:,'len_ts'] = data.loc[:,'ts'].apply(lambda x: len(x))"
   ]
  },
  {
   "cell_type": "code",
   "execution_count": 83,
   "metadata": {},
   "outputs": [
    {
     "data": {
      "text/html": [
       "<div>\n",
       "<style scoped>\n",
       "    .dataframe tbody tr th:only-of-type {\n",
       "        vertical-align: middle;\n",
       "    }\n",
       "\n",
       "    .dataframe tbody tr th {\n",
       "        vertical-align: top;\n",
       "    }\n",
       "\n",
       "    .dataframe thead th {\n",
       "        text-align: right;\n",
       "    }\n",
       "</style>\n",
       "<table border=\"1\" class=\"dataframe\">\n",
       "  <thead>\n",
       "    <tr style=\"text-align: right;\">\n",
       "      <th></th>\n",
       "      <th>id</th>\n",
       "      <th>user_id</th>\n",
       "      <th>text_id</th>\n",
       "      <th>label</th>\n",
       "      <th>versions</th>\n",
       "      <th>emotion</th>\n",
       "      <th>ts</th>\n",
       "      <th>len_ts</th>\n",
       "    </tr>\n",
       "  </thead>\n",
       "  <tbody>\n",
       "    <tr>\n",
       "      <th>0</th>\n",
       "      <td>16a02Lb</td>\n",
       "      <td>16</td>\n",
       "      <td>a02</td>\n",
       "      <td>L</td>\n",
       "      <td>b</td>\n",
       "      <td>boredom</td>\n",
       "      <td>[0.00124133, 0.0010521726, 0.0004256508, 0.000...</td>\n",
       "      <td>45889</td>\n",
       "    </tr>\n",
       "    <tr>\n",
       "      <th>1</th>\n",
       "      <td>14a07Wc</td>\n",
       "      <td>14</td>\n",
       "      <td>a07</td>\n",
       "      <td>W</td>\n",
       "      <td>c</td>\n",
       "      <td>anger</td>\n",
       "      <td>[6.805249e-06, 1.2503062e-05, -3.899378e-05, -...</td>\n",
       "      <td>45501</td>\n",
       "    </tr>\n",
       "    <tr>\n",
       "      <th>2</th>\n",
       "      <td>10a07Ad</td>\n",
       "      <td>10</td>\n",
       "      <td>a07</td>\n",
       "      <td>A</td>\n",
       "      <td>d</td>\n",
       "      <td>fear</td>\n",
       "      <td>[0.0011187387, 0.0011917101, 0.0005759509, -0....</td>\n",
       "      <td>35355</td>\n",
       "    </tr>\n",
       "    <tr>\n",
       "      <th>3</th>\n",
       "      <td>13a05Ea</td>\n",
       "      <td>13</td>\n",
       "      <td>a05</td>\n",
       "      <td>E</td>\n",
       "      <td>a</td>\n",
       "      <td>disgust</td>\n",
       "      <td>[0.0014452776, 0.0008329833, -0.0003924449, -0...</td>\n",
       "      <td>92521</td>\n",
       "    </tr>\n",
       "    <tr>\n",
       "      <th>4</th>\n",
       "      <td>14a05Wa</td>\n",
       "      <td>14</td>\n",
       "      <td>a05</td>\n",
       "      <td>W</td>\n",
       "      <td>a</td>\n",
       "      <td>anger</td>\n",
       "      <td>[0.0003161473, 0.00027575556, 3.9782277e-05, -...</td>\n",
       "      <td>88351</td>\n",
       "    </tr>\n",
       "    <tr>\n",
       "      <th>...</th>\n",
       "      <td>...</td>\n",
       "      <td>...</td>\n",
       "      <td>...</td>\n",
       "      <td>...</td>\n",
       "      <td>...</td>\n",
       "      <td>...</td>\n",
       "      <td>...</td>\n",
       "      <td>...</td>\n",
       "    </tr>\n",
       "    <tr>\n",
       "      <th>530</th>\n",
       "      <td>08b01Fd</td>\n",
       "      <td>08</td>\n",
       "      <td>b01</td>\n",
       "      <td>F</td>\n",
       "      <td>d</td>\n",
       "      <td>happiness</td>\n",
       "      <td>[0.0011028993, 0.0014955814, 0.00082337845, 0....</td>\n",
       "      <td>54727</td>\n",
       "    </tr>\n",
       "    <tr>\n",
       "      <th>531</th>\n",
       "      <td>03b02Aa</td>\n",
       "      <td>03</td>\n",
       "      <td>b02</td>\n",
       "      <td>A</td>\n",
       "      <td>a</td>\n",
       "      <td>fear</td>\n",
       "      <td>[-7.353947e-06, -0.00029102393, -0.00028702736...</td>\n",
       "      <td>68021</td>\n",
       "    </tr>\n",
       "    <tr>\n",
       "      <th>532</th>\n",
       "      <td>09a05Lc</td>\n",
       "      <td>09</td>\n",
       "      <td>a05</td>\n",
       "      <td>L</td>\n",
       "      <td>c</td>\n",
       "      <td>boredom</td>\n",
       "      <td>[-0.042633273, -0.048330702, -0.041187566, -0....</td>\n",
       "      <td>74251</td>\n",
       "    </tr>\n",
       "    <tr>\n",
       "      <th>533</th>\n",
       "      <td>08a05Lc</td>\n",
       "      <td>08</td>\n",
       "      <td>a05</td>\n",
       "      <td>L</td>\n",
       "      <td>c</td>\n",
       "      <td>boredom</td>\n",
       "      <td>[-0.001996015, -0.0013897836, -0.00034429855, ...</td>\n",
       "      <td>92354</td>\n",
       "    </tr>\n",
       "    <tr>\n",
       "      <th>534</th>\n",
       "      <td>14a05Aa</td>\n",
       "      <td>14</td>\n",
       "      <td>a05</td>\n",
       "      <td>A</td>\n",
       "      <td>a</td>\n",
       "      <td>fear</td>\n",
       "      <td>[1.5145084e-05, 0.00028669488, 0.00036227796, ...</td>\n",
       "      <td>57058</td>\n",
       "    </tr>\n",
       "  </tbody>\n",
       "</table>\n",
       "<p>535 rows × 8 columns</p>\n",
       "</div>"
      ],
      "text/plain": [
       "          id user_id text_id label versions    emotion  \\\n",
       "0    16a02Lb      16     a02     L        b    boredom   \n",
       "1    14a07Wc      14     a07     W        c      anger   \n",
       "2    10a07Ad      10     a07     A        d       fear   \n",
       "3    13a05Ea      13     a05     E        a    disgust   \n",
       "4    14a05Wa      14     a05     W        a      anger   \n",
       "..       ...     ...     ...   ...      ...        ...   \n",
       "530  08b01Fd      08     b01     F        d  happiness   \n",
       "531  03b02Aa      03     b02     A        a       fear   \n",
       "532  09a05Lc      09     a05     L        c    boredom   \n",
       "533  08a05Lc      08     a05     L        c    boredom   \n",
       "534  14a05Aa      14     a05     A        a       fear   \n",
       "\n",
       "                                                    ts  len_ts  \n",
       "0    [0.00124133, 0.0010521726, 0.0004256508, 0.000...   45889  \n",
       "1    [6.805249e-06, 1.2503062e-05, -3.899378e-05, -...   45501  \n",
       "2    [0.0011187387, 0.0011917101, 0.0005759509, -0....   35355  \n",
       "3    [0.0014452776, 0.0008329833, -0.0003924449, -0...   92521  \n",
       "4    [0.0003161473, 0.00027575556, 3.9782277e-05, -...   88351  \n",
       "..                                                 ...     ...  \n",
       "530  [0.0011028993, 0.0014955814, 0.00082337845, 0....   54727  \n",
       "531  [-7.353947e-06, -0.00029102393, -0.00028702736...   68021  \n",
       "532  [-0.042633273, -0.048330702, -0.041187566, -0....   74251  \n",
       "533  [-0.001996015, -0.0013897836, -0.00034429855, ...   92354  \n",
       "534  [1.5145084e-05, 0.00028669488, 0.00036227796, ...   57058  \n",
       "\n",
       "[535 rows x 8 columns]"
      ]
     },
     "execution_count": 83,
     "metadata": {},
     "output_type": "execute_result"
    }
   ],
   "source": []
  },
  {
   "cell_type": "markdown",
   "metadata": {},
   "source": [
    "# Results & Visualizations"
   ]
  },
  {
   "cell_type": "code",
   "execution_count": null,
   "metadata": {
    "collapsed": true
   },
   "outputs": [],
   "source": []
  }
 ],
 "metadata": {
  "kernelspec": {
   "display_name": "Python 3",
   "language": "python",
   "name": "python3"
  },
  "language_info": {
   "codemirror_mode": {
    "name": "ipython",
    "version": 3
   },
   "file_extension": ".py",
   "mimetype": "text/x-python",
   "name": "python",
   "nbconvert_exporter": "python",
   "pygments_lexer": "ipython3",
   "version": "3.9.16"
  },
  "toc": {
   "base_numbering": 1,
   "nav_menu": {},
   "number_sections": true,
   "sideBar": true,
   "skip_h1_title": false,
   "title_cell": "Table of Contents",
   "title_sidebar": "Contents",
   "toc_cell": false,
   "toc_position": {},
   "toc_section_display": true,
   "toc_window_display": false
  },
  "varInspector": {
   "cols": {
    "lenName": 16,
    "lenType": 16,
    "lenVar": 40
   },
   "kernels_config": {
    "python": {
     "delete_cmd_postfix": "",
     "delete_cmd_prefix": "del ",
     "library": "var_list.py",
     "varRefreshCmd": "print(var_dic_list())"
    },
    "r": {
     "delete_cmd_postfix": ") ",
     "delete_cmd_prefix": "rm(",
     "library": "var_list.r",
     "varRefreshCmd": "cat(var_dic_list()) "
    }
   },
   "types_to_exclude": [
    "module",
    "function",
    "builtin_function_or_method",
    "instance",
    "_Feature"
   ],
   "window_display": false
  }
 },
 "nbformat": 4,
 "nbformat_minor": 2
}
